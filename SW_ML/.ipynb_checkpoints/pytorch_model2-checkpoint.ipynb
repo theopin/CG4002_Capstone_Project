{
 "cells": [
  {
   "cell_type": "code",
   "execution_count": 1,
   "metadata": {
    "execution": {
     "iopub.execute_input": "2021-09-29T06:35:27.356452Z",
     "iopub.status.busy": "2021-09-29T06:35:27.356098Z",
     "iopub.status.idle": "2021-09-29T06:35:27.363129Z",
     "shell.execute_reply": "2021-09-29T06:35:27.362091Z",
     "shell.execute_reply.started": "2021-09-29T06:35:27.356413Z"
    }
   },
   "outputs": [],
   "source": [
    "import os\n",
    "import re\n",
    "import itertools\n",
    "import warnings\n",
    "from joblib import dump\n",
    "\n",
    "import numpy as np\n",
    "import pandas as pd\n",
    "import matplotlib.pyplot as plt\n",
    "import seaborn as sns\n",
    "\n",
    "from scipy import stats, signal\n",
    "from sklearn.manifold import TSNE\n",
    "from sklearn.metrics import accuracy_score, confusion_matrix\n",
    "from sklearn import preprocessing\n",
    "from sklearn.model_selection import train_test_split, cross_val_score\n",
    "\n",
    "import torch\n",
    "import torchvision\n",
    "import torch.nn as nn\n",
    "import torch.nn.functional as F\n",
    "import torch.optim as optim\n",
    "\n",
    "warnings.filterwarnings(\"ignore\")\n",
    "random_state = 42\n",
    "activities = [\"dab\", \"jamesbond\", \"mermaid\"]\n",
    "n_labels = len(activities)"
   ]
  },
  {
   "cell_type": "code",
   "execution_count": 2,
   "metadata": {
    "execution": {
     "iopub.execute_input": "2021-09-29T06:35:27.365382Z",
     "iopub.status.busy": "2021-09-29T06:35:27.365038Z",
     "iopub.status.idle": "2021-09-29T06:35:28.528462Z",
     "shell.execute_reply": "2021-09-29T06:35:28.527413Z",
     "shell.execute_reply.started": "2021-09-29T06:35:27.36535Z"
    }
   },
   "outputs": [
    {
     "name": "stdout",
     "output_type": "stream",
     "text": [
      "(18900, 13)\n"
     ]
    },
    {
     "data": {
      "text/html": [
       "<div>\n",
       "<style scoped>\n",
       "    .dataframe tbody tr th:only-of-type {\n",
       "        vertical-align: middle;\n",
       "    }\n",
       "\n",
       "    .dataframe tbody tr th {\n",
       "        vertical-align: top;\n",
       "    }\n",
       "\n",
       "    .dataframe thead th {\n",
       "        text-align: right;\n",
       "    }\n",
       "</style>\n",
       "<table border=\"1\" class=\"dataframe\">\n",
       "  <thead>\n",
       "    <tr style=\"text-align: right;\">\n",
       "      <th></th>\n",
       "      <th>yaw</th>\n",
       "      <th>pitch</th>\n",
       "      <th>roll</th>\n",
       "      <th>g_x</th>\n",
       "      <th>g_y</th>\n",
       "      <th>g_z</th>\n",
       "      <th>a_x</th>\n",
       "      <th>a_y</th>\n",
       "      <th>a_z</th>\n",
       "      <th>activity</th>\n",
       "      <th>activityName</th>\n",
       "      <th>trial</th>\n",
       "      <th>subject</th>\n",
       "    </tr>\n",
       "  </thead>\n",
       "  <tbody>\n",
       "    <tr>\n",
       "      <th>0</th>\n",
       "      <td>-0.05</td>\n",
       "      <td>12.99</td>\n",
       "      <td>72.28</td>\n",
       "      <td>-6.47</td>\n",
       "      <td>-2.95</td>\n",
       "      <td>-1.05</td>\n",
       "      <td>-0.20</td>\n",
       "      <td>1.00</td>\n",
       "      <td>-0.17</td>\n",
       "      <td>0</td>\n",
       "      <td>dab</td>\n",
       "      <td>1</td>\n",
       "      <td>subject1</td>\n",
       "    </tr>\n",
       "    <tr>\n",
       "      <th>1</th>\n",
       "      <td>-1.67</td>\n",
       "      <td>15.87</td>\n",
       "      <td>55.53</td>\n",
       "      <td>-67.89</td>\n",
       "      <td>11.78</td>\n",
       "      <td>-6.40</td>\n",
       "      <td>-0.26</td>\n",
       "      <td>1.29</td>\n",
       "      <td>-0.01</td>\n",
       "      <td>0</td>\n",
       "      <td>dab</td>\n",
       "      <td>1</td>\n",
       "      <td>subject1</td>\n",
       "    </tr>\n",
       "    <tr>\n",
       "      <th>2</th>\n",
       "      <td>-18.20</td>\n",
       "      <td>5.15</td>\n",
       "      <td>9.66</td>\n",
       "      <td>-180.85</td>\n",
       "      <td>-41.34</td>\n",
       "      <td>-70.00</td>\n",
       "      <td>-0.25</td>\n",
       "      <td>1.47</td>\n",
       "      <td>1.91</td>\n",
       "      <td>0</td>\n",
       "      <td>dab</td>\n",
       "      <td>1</td>\n",
       "      <td>subject1</td>\n",
       "    </tr>\n",
       "    <tr>\n",
       "      <th>3</th>\n",
       "      <td>23.60</td>\n",
       "      <td>7.15</td>\n",
       "      <td>-49.80</td>\n",
       "      <td>-250.14</td>\n",
       "      <td>7.11</td>\n",
       "      <td>91.12</td>\n",
       "      <td>-0.27</td>\n",
       "      <td>1.37</td>\n",
       "      <td>-0.11</td>\n",
       "      <td>0</td>\n",
       "      <td>dab</td>\n",
       "      <td>1</td>\n",
       "      <td>subject1</td>\n",
       "    </tr>\n",
       "    <tr>\n",
       "      <th>4</th>\n",
       "      <td>-10.80</td>\n",
       "      <td>23.43</td>\n",
       "      <td>-50.88</td>\n",
       "      <td>-4.71</td>\n",
       "      <td>59.81</td>\n",
       "      <td>-41.99</td>\n",
       "      <td>-0.66</td>\n",
       "      <td>-0.72</td>\n",
       "      <td>0.06</td>\n",
       "      <td>0</td>\n",
       "      <td>dab</td>\n",
       "      <td>1</td>\n",
       "      <td>subject1</td>\n",
       "    </tr>\n",
       "  </tbody>\n",
       "</table>\n",
       "</div>"
      ],
      "text/plain": [
       "     yaw  pitch   roll     g_x    g_y    g_z   a_x   a_y   a_z  activity  \\\n",
       "0  -0.05  12.99  72.28   -6.47  -2.95  -1.05 -0.20  1.00 -0.17         0   \n",
       "1  -1.67  15.87  55.53  -67.89  11.78  -6.40 -0.26  1.29 -0.01         0   \n",
       "2 -18.20   5.15   9.66 -180.85 -41.34 -70.00 -0.25  1.47  1.91         0   \n",
       "3  23.60   7.15 -49.80 -250.14   7.11  91.12 -0.27  1.37 -0.11         0   \n",
       "4 -10.80  23.43 -50.88   -4.71  59.81 -41.99 -0.66 -0.72  0.06         0   \n",
       "\n",
       "  activityName  trial   subject  \n",
       "0          dab      1  subject1  \n",
       "1          dab      1  subject1  \n",
       "2          dab      1  subject1  \n",
       "3          dab      1  subject1  \n",
       "4          dab      1  subject1  "
      ]
     },
     "execution_count": 2,
     "metadata": {},
     "output_type": "execute_result"
    }
   ],
   "source": [
    "dfs = []\n",
    "\n",
    "def load_data(activity, label, trials, subject):\n",
    "    for trial in trials:\n",
    "        df = pd.read_csv(os.path.join(subject, activity+str(trial)+\".csv\"), sep=\",\", index_col=0)\n",
    "#         df = df[40:-40]\n",
    "        df[\"activity\"] = [label for _ in range(len(df))]\n",
    "        df[\"activityName\"] = [activity for _ in range(len(df))]\n",
    "        df[\"trial\"] = [trial for _ in range(len(df))]\n",
    "        df[\"subject\"] = [subject for _ in range(len(df))]\n",
    "        dfs.append(df)\n",
    "\n",
    "ids = [1, 2, 3, 4, 5, 6, 7]\n",
    "user = \"subject1\"\n",
    "load_data(\"dab\", 0, ids, user)\n",
    "# load_data(\"jamesbond\", 1, ids, user)\n",
    "load_data(\"mermaid\", 2, ids, user)\n",
    "# load_data(\"dab\", 3, ids, user)\n",
    "# load_data(\"wipetable\", 4, ids, user)\n",
    "# load_data(\"gun\", 5, ids, user)\n",
    "# load_data(\"elbowkick\", 6, ids, user)\n",
    "# load_data(\"pointhigh\", 7, ids, user)\n",
    "# load_data(\"logout\", 8, ids, user)\n",
    "\n",
    "user = \"subject2\"\n",
    "load_data(\"dab\", 0, ids, user)\n",
    "# load_data(\"jamesbond\", 1, ids, user)\n",
    "load_data(\"mermaid\", 2, ids, user)\n",
    "# load_data(\"dab\", 3, ids, user)\n",
    "# load_data(\"wipetable\", 4, ids, user)\n",
    "# load_data(\"gun\", 5, ids, user)\n",
    "# load_data(\"elbowkick\", 6, ids, user)\n",
    "# load_data(\"pointhigh\", 7, ids, user)\n",
    "# load_data(\"logout\", 8, ids, user)\n",
    "\n",
    "user = \"subject3\"\n",
    "load_data(\"dab\", 0, ids, user)\n",
    "# load_data(\"jamesbond\", 1, ids, user)\n",
    "load_data(\"mermaid\", 2, ids, user)\n",
    "# load_data(\"dab\", 3, ids, user)\n",
    "# load_data(\"wipetable\", 4, ids, user)\n",
    "# load_data(\"gun\", 5, ids, user)\n",
    "# load_data(\"elbowkick\", 6, ids, user)\n",
    "# load_data(\"pointhigh\", 7, ids, user)\n",
    "# load_data(\"logout\", 8, ids, user)\n",
    "\n",
    "ids = [1, 2, 3, 4, 5, 6, 7]\n",
    "user = \"subject1\"\n",
    "load_data(\"jamesbond\", 1, ids, user)\n",
    "\n",
    "user = \"subject2\"\n",
    "load_data(\"jamesbond\", 1, ids, user)\n",
    "\n",
    "user = \"subject3\"\n",
    "load_data(\"jamesbond\", 1, ids, user)\n",
    "\n",
    "\n",
    "df = pd.concat(dfs)\n",
    "print(df.shape)\n",
    "df.head()"
   ]
  },
  {
   "cell_type": "code",
   "execution_count": 3,
   "metadata": {
    "execution": {
     "iopub.execute_input": "2021-09-29T06:35:28.530639Z",
     "iopub.status.busy": "2021-09-29T06:35:28.530271Z",
     "iopub.status.idle": "2021-09-29T06:35:28.878362Z",
     "shell.execute_reply": "2021-09-29T06:35:28.877388Z",
     "shell.execute_reply.started": "2021-09-29T06:35:28.530599Z"
    }
   },
   "outputs": [
    {
     "data": {
      "image/png": "[encoded data removed]",
      "text/plain": [
       "<Figure size 864x360 with 1 Axes>"
      ]
     },
     "metadata": {
      "needs_background": "light"
     },
     "output_type": "display_data"
    }
   ],
   "source": [
    "def plot_distribution_of_data(df, title=\"\"):\n",
    "    activity, counts = np.unique(df.activityName, return_counts=True)\n",
    "    index = np.arange(len(activity))\n",
    "    plt.figure(figsize=(12, 5))\n",
    "    plt.bar(index, counts, align = 'center', alpha=0.5, color='lightblue')\n",
    "    plt.suptitle(title, fontsize=16)\n",
    "    plt.xticks(index, activity, rotation=90, fontsize=8)\n",
    "    plt.xlim([-.5, 8.5])\n",
    "    plt.ylabel('frequency', fontsize=10)\n",
    "    for i, v in enumerate(counts):\n",
    "        plt.text(i, v, str(v), color='grey', fontweight='bold')\n",
    "    plt.show()\n",
    "\n",
    "plot_distribution_of_data(df, title='Class Distribution Of Dataset')"
   ]
  },
  {
   "cell_type": "code",
   "execution_count": 4,
   "metadata": {
    "execution": {
     "iopub.execute_input": "2021-09-29T06:35:28.88019Z",
     "iopub.status.busy": "2021-09-29T06:35:28.879823Z",
     "iopub.status.idle": "2021-09-29T06:35:29.704875Z",
     "shell.execute_reply": "2021-09-29T06:35:29.703916Z",
     "shell.execute_reply.started": "2021-09-29T06:35:28.880152Z"
    }
   },
   "outputs": [
    {
     "data": {
      "image/png": "[encoded data removed]",
      "text/plain": [
       "<Figure size 1152x576 with 1 Axes>"
      ]
     },
     "metadata": {
      "needs_background": "light"
     },
     "output_type": "display_data"
    }
   ],
   "source": [
    "def plot_distribution_of_data_per_user(df, title=\"\"):\n",
    "    plt.figure(figsize=(16,8))\n",
    "    plt.title(title, fontsize=20)\n",
    "    sns.countplot(x='subject',hue='activityName', data=df)\n",
    "    plt.show()\n",
    "\n",
    "plot_distribution_of_data_per_user(df, title='Data Collected Per User')"
   ]
  },
  {
   "cell_type": "code",
   "execution_count": 5,
   "metadata": {
    "execution": {
     "iopub.execute_input": "2021-09-29T06:35:29.706691Z",
     "iopub.status.busy": "2021-09-29T06:35:29.706355Z",
     "iopub.status.idle": "2021-09-29T06:35:37.351774Z",
     "shell.execute_reply": "2021-09-29T06:35:37.350998Z",
     "shell.execute_reply.started": "2021-09-29T06:35:29.706654Z"
    }
   },
   "outputs": [
    {
     "data": {
      "text/plain": [
       "((630, 9, 30), (630, 1))"
      ]
     },
     "execution_count": 5,
     "metadata": {},
     "output_type": "execute_result"
    }
   ],
   "source": [
    "def convert_to_timeseries(features, num_time_steps, num_features):\n",
    "    data = np.reshape(features, newshape=(num_time_steps, num_features))\n",
    "    return data.T\n",
    "\n",
    "num_time_steps = 30\n",
    "X = list()\n",
    "y = list()\n",
    "df_len = len(df)\n",
    "for idx in range(0, df_len, num_time_steps):\n",
    "    window_df = df[idx:idx+num_time_steps]\n",
    "    labels = window_df[\"activity\"].unique()\n",
    "    trials = window_df[\"trial\"].unique()\n",
    "    subjects = window_df[\"subject\"].unique()\n",
    "    if len(labels) != 1 or len(trials) != 1 or len(subjects) != 1 or len(window_df) < num_time_steps:\n",
    "        continue\n",
    "    assert len(labels) == 1 and len(window_df) == num_time_steps\n",
    "    features = window_df.drop(columns=[\"activity\", \"activityName\", \"subject\", \"trial\"]).values\n",
    "    features = convert_to_timeseries(features, num_time_steps=num_time_steps, num_features=9)\n",
    "    X.append(features)\n",
    "    y.append(labels)\n",
    "\n",
    "X = np.array(X)\n",
    "y = np.array(y)\n",
    "\n",
    "X.shape, y.shape"
   ]
  },
  {
   "cell_type": "code",
   "execution_count": 6,
   "metadata": {
    "execution": {
     "iopub.execute_input": "2021-09-29T06:35:37.353438Z",
     "iopub.status.busy": "2021-09-29T06:35:37.353084Z",
     "iopub.status.idle": "2021-09-29T06:35:37.361889Z",
     "shell.execute_reply": "2021-09-29T06:35:37.360909Z",
     "shell.execute_reply.started": "2021-09-29T06:35:37.353402Z"
    }
   },
   "outputs": [],
   "source": [
    "def plot_confusion_matrix(cm, classes, normalize=False, title='Confusion Matrix'):\n",
    "    \"\"\"\n",
    "    This function prints and plots the confusion matrix.\n",
    "    Normalization can be applied by setting `normalize=True`.\n",
    "    \"\"\"\n",
    "    plt.figure(figsize=(15,8))\n",
    "    if normalize:\n",
    "        cm = cm.astype('float') / cm.sum(axis=1)[:, np.newaxis]\n",
    "        cmap='Reds'\n",
    "        print(\"Normalized Confusion Matrix\")\n",
    "    else:\n",
    "        cmap='Greens'\n",
    "        print('Confusion Matrix Without Normalization')\n",
    "\n",
    "    plt.imshow(cm, interpolation='nearest', cmap=cmap)\n",
    "    plt.title(title)\n",
    "    plt.colorbar()\n",
    "    tick_marks = np.arange(len(classes))\n",
    "    plt.xticks(tick_marks, classes, rotation=90)\n",
    "    plt.yticks(tick_marks, classes)\n",
    "\n",
    "    fmt = '.2f' if normalize else 'd'\n",
    "    thresh = cm.max() / 2.\n",
    "    for i, j in itertools.product(range(cm.shape[0]), range(cm.shape[1])):\n",
    "        plt.text(j, i, format(cm[i, j], fmt),\n",
    "                 horizontalalignment=\"center\",\n",
    "                 color=\"white\" if cm[i, j] > thresh else \"black\")\n",
    "\n",
    "    plt.tight_layout()\n",
    "    plt.ylabel('True label')\n",
    "    plt.xlabel('Predicted label')\n",
    "    plt.show()"
   ]
  },
  {
   "cell_type": "code",
   "execution_count": 7,
   "metadata": {
    "execution": {
     "iopub.execute_input": "2021-09-29T06:35:37.365329Z",
     "iopub.status.busy": "2021-09-29T06:35:37.364675Z",
     "iopub.status.idle": "2021-09-29T06:35:37.380751Z",
     "shell.execute_reply": "2021-09-29T06:35:37.37993Z",
     "shell.execute_reply.started": "2021-09-29T06:35:37.365194Z"
    }
   },
   "outputs": [],
   "source": [
    "class EarlyStopping:\n",
    "    \"\"\"Early stops the training if validation loss doesn't improve after a given patience.\"\"\"\n",
    "    def __init__(self, patience=7, verbose=False, delta=0):\n",
    "        \"\"\"\n",
    "        Args:\n",
    "            patience (int): How long to wait after last time validation loss improved.\n",
    "                            上次验证集损失值改善后等待几个epoch\n",
    "                            Default: 7\n",
    "            verbose (bool): If True, prints a message for each validation loss improvement.\n",
    "                            如果是True，为每个验证集损失值改善打印一条信息\n",
    "                            Default: False\n",
    "            delta (float): Minimum change in the monitored quantity to qualify as an improvement.\n",
    "                            监测数量的最小变化，以符合改进的要求\n",
    "                            Default: 0\n",
    "        \"\"\"\n",
    "        self.patience = patience\n",
    "        self.verbose = verbose\n",
    "        self.counter = 0\n",
    "        self.best_score = None\n",
    "        self.early_stop = False\n",
    "        self.val_loss_min = np.Inf\n",
    "        self.delta = delta\n",
    "\n",
    "    def __call__(self, val_loss, model):\n",
    "\n",
    "        score = -val_loss\n",
    "\n",
    "        if self.best_score is None:\n",
    "            self.best_score = score\n",
    "            self.save_checkpoint(val_loss, model)\n",
    "        elif score < self.best_score + self.delta:\n",
    "            self.counter += 1\n",
    "            print(f'EarlyStopping counter: {self.counter} out of {self.patience}')\n",
    "            if self.counter >= self.patience:\n",
    "                self.early_stop = True\n",
    "        else:\n",
    "            self.best_score = score\n",
    "            self.save_checkpoint(val_loss, model)\n",
    "            self.counter = 0\n",
    "\n",
    "    def save_checkpoint(self, val_loss, model):\n",
    "        '''\n",
    "        Saves model when validation loss decrease.\n",
    "        验证损失减少时保存模型。\n",
    "        '''\n",
    "        if self.verbose:\n",
    "            print(f'Validation loss decreased ({self.val_loss_min:.6f} --> {val_loss:.6f}).  Saving model ...')\n",
    "        torch.save(model, 'finish_model.pkl')                 # 这里会存储迄今最优的模型\n",
    "        self.val_loss_min = val_loss\n",
    "\n",
    "def plot_avg_loss_per_epoch(avg_train_losses, avg_valid_losses):\n",
    "    # visualize the loss as the network trained\n",
    "    fig = plt.figure(figsize=(10,8))\n",
    "    plt.plot(range(1,len(avg_train_losses)+1), avg_train_losses, label='Training Loss')\n",
    "    plt.plot(range(1,len(avg_valid_losses)+1), avg_valid_losses,label='Validation Loss')\n",
    "\n",
    "    # find position of lowest validation loss\n",
    "    minposs = avg_train_losses.index(min(avg_train_losses))+1 \n",
    "    plt.axvline(minposs, linestyle='--', color='r',label='Early Stopping Checkpoint')\n",
    "\n",
    "    plt.xlabel('epochs')\n",
    "    plt.ylabel('loss')\n",
    "    plt.ylim(0, 2) # consistent scale\n",
    "    plt.xlim(0, len(avg_train_losses)+1) # consistent scale\n",
    "    plt.grid(True)\n",
    "    plt.legend()\n",
    "    plt.tight_layout()\n",
    "    plt.show()\n",
    "\n",
    "def plot_accuracy_per_epoch(train_accuracies, valid_accuracies):\n",
    "    # visualize the loss as the network trained\n",
    "    fig = plt.figure(figsize=(10,8))\n",
    "    plt.plot(range(1,len(train_accuracies)+1), train_accuracies, label='Train Accuracy')\n",
    "    plt.plot(range(1,len(valid_accuracies)+1), valid_accuracies,label='Valid Accuracy')\n",
    "\n",
    "    plt.xlabel('epochs')\n",
    "    plt.ylabel('accuracy')\n",
    "    plt.ylim(0, 1) # consistent scale\n",
    "    plt.xlim(0, len(train_accuracies)+1) # consistent scale\n",
    "    plt.grid(True)\n",
    "    plt.legend()\n",
    "    plt.tight_layout()\n",
    "    plt.show()"
   ]
  },
  {
   "cell_type": "code",
   "execution_count": 8,
   "metadata": {
    "execution": {
     "iopub.execute_input": "2021-09-29T06:35:37.383168Z",
     "iopub.status.busy": "2021-09-29T06:35:37.382809Z",
     "iopub.status.idle": "2021-09-29T06:35:37.403268Z",
     "shell.execute_reply": "2021-09-29T06:35:37.402106Z",
     "shell.execute_reply.started": "2021-09-29T06:35:37.383114Z"
    }
   },
   "outputs": [],
   "source": [
    "class DLTrainer:\n",
    "    def __init__(self, model, trainloader, validloader, testloader, criterion, optimizer, early_stopping, n_epochs, patience, is_time_series=False):\n",
    "        self.model = model\n",
    "        self.trainloader = trainloader\n",
    "        self.validloader = validloader\n",
    "        self.testloader = testloader\n",
    "        \n",
    "        self.criterion = criterion\n",
    "        self.optimizer = optimizer\n",
    "        self.early_stopping = early_stopping\n",
    "        self.n_epochs = n_epochs\n",
    "        self.patience = patience\n",
    "        self.is_time_series = is_time_series\n",
    "\n",
    "        self.avg_train_losses = []\n",
    "        self.avg_valid_losses = [] \n",
    "        self.train_accuracies = []\n",
    "        self.valid_accuracies = []\n",
    "        \n",
    "    def train_epoch(self):\n",
    "        correct = 0\n",
    "        total = 0\n",
    "        losses = []\n",
    "\n",
    "        self.model.train()\n",
    "        for data in self.trainloader:\n",
    "            inputs, labels = data\n",
    "#             inputs = inputs.to(\"cuda\")\n",
    "#             labels = labels.to(\"cuda\")\n",
    "            \n",
    "            self.optimizer.zero_grad()\n",
    "\n",
    "            outputs = self.model(inputs.float())\n",
    "            loss = self.criterion(outputs, labels)            \n",
    "#             loss.backward()\n",
    "            loss.backward(retain_graph=True)\n",
    "            self.optimizer.step()\n",
    "\n",
    "            losses.append(loss.item())\n",
    "\n",
    "            _, predicted = torch.max(outputs.data, 1)\n",
    "            total += labels.size(0)\n",
    "            correct += (predicted == labels).sum().item()\n",
    "\n",
    "        return correct, total, np.mean(losses)\n",
    "\n",
    "    def validate_epoch(self):\n",
    "        correct = 0\n",
    "        total = 0\n",
    "        losses = []\n",
    "\n",
    "        self.model.eval()\n",
    "        for data in validloader:\n",
    "            inputs, labels = data\n",
    "#             inputs = inputs.to(\"cuda\")\n",
    "#             labels = labels.to(\"cuda\")\n",
    "\n",
    "            outputs = self.model(inputs.float())\n",
    "            loss = self.criterion(outputs, labels)\n",
    "            losses.append(loss.item())\n",
    "\n",
    "            _, predicted = torch.max(outputs.data, 1)\n",
    "            total += labels.size(0)\n",
    "            correct += (predicted == labels).sum().item()\n",
    "\n",
    "        return correct, total, np.mean(losses)\n",
    "\n",
    "    def evaluate(self, dataloader):\n",
    "        correct = 0\n",
    "        total = 0\n",
    "        actual = []\n",
    "        expected = []\n",
    "\n",
    "        with torch.no_grad():\n",
    "            for data in dataloader:\n",
    "                inputs, labels = data\n",
    "#                 inputs = inputs.to(\"cuda\")\n",
    "#                 labels = labels.to(\"cuda\")\n",
    "                outputs = self.model(inputs.float())\n",
    "                _, predicted = torch.max(outputs.data, 1)\n",
    "                total += labels.size(0)\n",
    "                correct += (predicted == labels).sum().item()\n",
    "                expected += labels.cpu()\n",
    "                actual += predicted.cpu()\n",
    "\n",
    "        return correct/total, (expected, actual)\n",
    "    \n",
    "    def train(self):\n",
    "#         self.model.cuda()\n",
    "        for epoch in range(self.n_epochs):  # loop over the dataset multiple times\n",
    "            print(epoch)\n",
    "            train_correct, train_total, train_loss = self.train_epoch()\n",
    "            valid_correct, valid_total, valid_loss = self.validate_epoch()\n",
    "\n",
    "            # calculate average loss over an epoch\n",
    "            train_accuracy = train_correct / train_total\n",
    "            valid_accuracy = valid_correct / valid_total\n",
    "\n",
    "            self.avg_train_losses.append(train_loss)  \n",
    "            self.avg_valid_losses.append(valid_loss)\n",
    "            self.train_accuracies.append(train_accuracy)\n",
    "            self.valid_accuracies.append(valid_accuracy)\n",
    "  \n",
    "            log_message = f'[{str(epoch)}/{str(self.n_epochs)}] train_loss: {train_loss:.5f} valid_loss: {valid_loss:.5f} train_accuracy: {train_accuracy:.5f} valid_accuracy: {valid_accuracy:.5f}'\n",
    "            print(log_message)\n",
    "\n",
    "            self.early_stopping(valid_loss, self.model)\n",
    "            \n",
    "            if self.early_stopping.early_stop:\n",
    "                break\n",
    "\n",
    "    def show_evaluation(self):\n",
    "        return self.avg_train_losses, self.avg_valid_losses, self.train_accuracies, self.valid_accuracies\n"
   ]
  },
  {
   "cell_type": "code",
   "execution_count": 9,
   "metadata": {
    "execution": {
     "iopub.execute_input": "2021-09-29T06:35:37.404873Z",
     "iopub.status.busy": "2021-09-29T06:35:37.404498Z",
     "iopub.status.idle": "2021-09-29T06:35:37.418077Z",
     "shell.execute_reply": "2021-09-29T06:35:37.417171Z",
     "shell.execute_reply.started": "2021-09-29T06:35:37.404835Z"
    }
   },
   "outputs": [],
   "source": [
    "def compute_mean(data):\n",
    "    return np.mean(data)\n",
    "\n",
    "def compute_variance(data):\n",
    "    return np.var(data)\n",
    "\n",
    "def compute_median_absolute_deviation(data):\n",
    "    return stats.median_absolute_deviation(data)\n",
    "\n",
    "def compute_root_mean_square(data):\n",
    "    def compose(*fs):\n",
    "        def wrapped(x):\n",
    "            for f in fs[::-1]:\n",
    "                x = f(x)\n",
    "            return x\n",
    "        return wrapped\n",
    "    rms = compose(np.sqrt, np.mean, np.square)\n",
    "    return rms(data)\n",
    "\n",
    "def compute_interquartile_range(data):\n",
    "    return stats.iqr(data)\n",
    "\n",
    "def compute_percentile_75(data):\n",
    "    return np.percentile(data, 75)\n",
    "\n",
    "def compute_kurtosis(data):\n",
    "    return stats.kurtosis(data)\n",
    "\n",
    "def compute_min_max(data):\n",
    "    return np.max(data) - np.min(data)\n",
    "\n",
    "def compute_signal_magnitude_area(data):\n",
    "    return np.sum(data) / len(data)\n",
    "\n",
    "def compute_zero_crossing_rate(data):\n",
    "    return ((data[:-1] * data[1:]) < 0).sum()\n",
    "\n",
    "def compute_spectral_centroid(data):\n",
    "    spectrum = np.abs(np.fft.rfft(data))\n",
    "    normalized_spectrum = spectrum / np.sum(spectrum)  # like a probability mass function\n",
    "    normalized_frequencies = np.linspace(0, 1, len(spectrum))\n",
    "    spectral_centroid = np.sum(normalized_frequencies * normalized_spectrum)\n",
    "    return spectral_centroid\n",
    "\n",
    "def compute_spectral_entropy(data):\n",
    "    freqs, power_density = signal.welch(data)\n",
    "    return stats.entropy(power_density)\n",
    "\n",
    "def compute_spectral_energy(data):\n",
    "    freqs, power_density = signal.welch(data)\n",
    "    return np.sum(np.square(power_density))\n",
    "\n",
    "def compute_principle_frequency(data):\n",
    "    freqs, power_density = signal.welch(data)\n",
    "    return freqs[np.argmax(np.square(power_density))]"
   ]
  },
  {
   "cell_type": "code",
   "execution_count": null,
   "metadata": {
    "execution": {
     "iopub.execute_input": "2021-09-29T06:35:37.419943Z",
     "iopub.status.busy": "2021-09-29T06:35:37.419569Z",
     "iopub.status.idle": "2021-09-29T06:37:04.666365Z",
     "shell.execute_reply": "2021-09-29T06:37:04.66546Z",
     "shell.execute_reply.started": "2021-09-29T06:35:37.419908Z"
    }
   },
   "outputs": [],
   "source": [
    "feature_names = []\n",
    "for i in [\"yaw\", \"pitch\", \"row\", \"gyro_x\", \"gyro_y\", \"gyro_z\", \"acc_x\", \"acc_y\", \"acc_z\"]:\n",
    "        for j in [\"_mean\", \"_var\", \"_mad\", \"_rms\", \"_kurtosis\", \"_min_max\", \"_entropy\", \"_pfreq\"]:\n",
    "            feature_names.append(i+j)\n",
    "\n",
    "n_features = len(feature_names)\n",
    "\n",
    "def rename_raw_data_headers(X, columns):\n",
    "    X = pd.DataFrame(X)\n",
    "    X.columns = columns\n",
    "    return X\n",
    "\n",
    "def extract_raw_data_features_per_row(f_n):\n",
    "    f1_mean = compute_mean(f_n)\n",
    "    f1_var = compute_variance(f_n)\n",
    "    f1_mad = compute_median_absolute_deviation(f_n)\n",
    "    f1_rms = compute_root_mean_square(f_n)\n",
    "#     f1_iqr = compute_interquartile_range(f_n)\n",
    "#     f1_per75 = compute_percentile_75(f_n)\n",
    "    f1_kurtosis = compute_kurtosis(f_n)\n",
    "    f1_min_max = compute_min_max(f_n)\n",
    "#     f1_sma = compute_signal_magnitude_area(f_n)\n",
    "#     f1_zcr = compute_zero_crossing_rate(f_n)\n",
    "#     f1_sc = compute_spectral_centroid(f_n)\n",
    "    f1_entropy = compute_spectral_entropy(f_n)\n",
    "#     f1_energy = compute_spectral_energy(f_n)\n",
    "    f1_pfreq = compute_principle_frequency(f_n)\n",
    "    return f1_mean, f1_var, f1_mad, f1_rms, f1_kurtosis, f1_min_max,  f1_entropy, f1_pfreq\n",
    "\n",
    "def extract_raw_data_features(X):\n",
    "    new_features = np.ones((X.shape[0], n_features))\n",
    "    rows = X.shape[0]\n",
    "    cols = X.shape[1]\n",
    "\n",
    "    for row in range(rows):\n",
    "        features = []\n",
    "        for col in range(cols):\n",
    "            f_n = X[row][col]\n",
    "            feature = extract_raw_data_features_per_row(f_n)\n",
    "            features.extend(feature)\n",
    "        new_features[row] = np.array(features)\n",
    "\n",
    "    return new_features\n",
    "\n",
    "\n",
    "def prepare_raw_data_dataframe(X, y, random_state=42):\n",
    "    X = extract_raw_data_features(X)\n",
    "\n",
    "    X_train, X_test, y_train, y_test = train_test_split(X, y, test_size=0.1, random_state=random_state)\n",
    "    X_valid, X_test, y_valid, y_test = train_test_split(X_test, y_test, test_size=0.5, random_state=random_state)\n",
    "\n",
    "    return X_train, X_valid, X_test, y_train, y_valid, y_test\n",
    "\n",
    "X_train, X_valid, X_test, y_train, y_valid, y_test = prepare_raw_data_dataframe(X, y)"
   ]
  },
  {
   "cell_type": "code",
   "execution_count": null,
   "metadata": {
    "execution": {
     "iopub.execute_input": "2021-09-29T06:37:04.667944Z",
     "iopub.status.busy": "2021-09-29T06:37:04.667597Z",
     "iopub.status.idle": "2021-09-29T06:37:04.687673Z",
     "shell.execute_reply": "2021-09-29T06:37:04.686765Z",
     "shell.execute_reply.started": "2021-09-29T06:37:04.667899Z"
    }
   },
   "outputs": [],
   "source": [
    "scaler = preprocessing.StandardScaler()\n",
    "\n",
    "def scale_data(data, is_train=False):\n",
    "    if is_train:\n",
    "        data = scaler.fit_transform(data)\n",
    "    else:\n",
    "        data = scaler.transform(data)\n",
    "    return data\n",
    "\n",
    "X_train = scale_data(X_train, is_train=True)\n",
    "X_valid = scale_data(X_valid)\n",
    "X_test = scale_data(X_test)\n",
    "X_train.shape"
   ]
  },
  {
   "cell_type": "code",
   "execution_count": null,
   "metadata": {
    "execution": {
     "iopub.execute_input": "2021-09-29T06:37:04.689462Z",
     "iopub.status.busy": "2021-09-29T06:37:04.688942Z",
     "iopub.status.idle": "2021-09-29T06:37:04.724178Z",
     "shell.execute_reply": "2021-09-29T06:37:04.723236Z",
     "shell.execute_reply.started": "2021-09-29T06:37:04.689422Z"
    }
   },
   "outputs": [],
   "source": [
    "df2 = pd.DataFrame(X_train, columns=feature_names)\n",
    "df2[\"activityName\"] = y_train\n",
    "df2[\"activityName\"] = df2[\"activityName\"].replace([0,1,2], activities)\n",
    "df2"
   ]
  },
  {
   "cell_type": "code",
   "execution_count": null,
   "metadata": {
    "execution": {
     "iopub.execute_input": "2021-09-29T06:37:04.725919Z",
     "iopub.status.busy": "2021-09-29T06:37:04.725573Z",
     "iopub.status.idle": "2021-09-29T06:37:05.581159Z",
     "shell.execute_reply": "2021-09-29T06:37:05.58038Z",
     "shell.execute_reply.started": "2021-09-29T06:37:04.725883Z"
    }
   },
   "outputs": [],
   "source": [
    "# exploratory_features = [\"acc_z_min_max\", \"pitch_pfreq\", \"acc_z_kurtosis\"]\n",
    "\n",
    "# def plot_boxplot_activity_distribution(data, y):\n",
    "#     sns.boxplot(x='activityName', y=y, data=data)\n",
    "#     plt.axhline(y=0.08, xmin=0.1, xmax=0.9,c='m',dashes=(5,3))\n",
    "#     plt.title(feature, fontsize=15)\n",
    "#     plt.xticks(rotation = 40)\n",
    "#     plt.show()\n",
    "\n",
    "# for feature in exploratory_features:\n",
    "#     plot_boxplot_activity_distribution(df2, feature)"
   ]
  },
  {
   "cell_type": "code",
   "execution_count": null,
   "metadata": {
    "execution": {
     "iopub.execute_input": "2021-09-29T06:37:05.582778Z",
     "iopub.status.busy": "2021-09-29T06:37:05.58245Z",
     "iopub.status.idle": "2021-09-29T06:40:04.464602Z",
     "shell.execute_reply": "2021-09-29T06:40:04.463761Z",
     "shell.execute_reply.started": "2021-09-29T06:37:05.582743Z"
    }
   },
   "outputs": [],
   "source": [
    "perplexities = [2,5,10,20,50]\n",
    "\n",
    "def plot_tsne(X_data, y_data, perplexity, n_iter=1000, img_name_prefix='t-sne'):\n",
    "    # perform t-sne\n",
    "    X_reduced = TSNE(verbose=2, perplexity=perplexity).fit_transform(X_data)\n",
    "    \n",
    "    # prepare the data for seaborn         \n",
    "    df = pd.DataFrame({'x':X_reduced[:,0], 'y':X_reduced[:,1] ,'label':y_data})\n",
    "    \n",
    "    # draw the plot in appropriate place in the grid\n",
    "    sns.lmplot(data=df, x='x', y='y', hue='label', fit_reg=False, size=8,\\\n",
    "                palette=\"Set1\")\n",
    "    plt.title(\"perplexity : {} and max_iter : {}\".format(perplexity, n_iter))\n",
    "    img_name = img_name_prefix + '_perp_{}_iter_{}.png'.format(perplexity, n_iter)\n",
    "    plt.show()\n",
    "\n",
    "for perplexity in perplexities:\n",
    "    X_pre_tsne = df2.drop(columns=['activityName'], axis=1)\n",
    "    y_pre_tsne = df2['activityName']\n",
    "    plot_tsne(X_data=X_pre_tsne, y_data=y_pre_tsne, perplexity=perplexity)"
   ]
  },
  {
   "cell_type": "code",
   "execution_count": null,
   "metadata": {},
   "outputs": [],
   "source": [
    "print(X_train.shape)"
   ]
  },
  {
   "cell_type": "code",
   "execution_count": null,
   "metadata": {},
   "outputs": [],
   "source": [
    "print(y_train.shape)"
   ]
  },
  {
   "cell_type": "code",
   "execution_count": null,
   "metadata": {
    "execution": {
     "iopub.execute_input": "2021-09-29T06:40:04.46633Z",
     "iopub.status.busy": "2021-09-29T06:40:04.465955Z",
     "iopub.status.idle": "2021-09-29T06:40:04.475174Z",
     "shell.execute_reply": "2021-09-29T06:40:04.474065Z",
     "shell.execute_reply.started": "2021-09-29T06:40:04.466292Z"
    }
   },
   "outputs": [],
   "source": [
    "class DNNDataset(object):\n",
    "    def __init__(self, X, y):\n",
    "        self.X = X\n",
    "        self.y = y\n",
    "        \n",
    "    def __getitem__(self, idx):\n",
    "        data = self.X[idx]\n",
    "        target = self.y[idx][0] \n",
    "        return data, target\n",
    "\n",
    "    def __len__(self):\n",
    "        return len(self.X)\n",
    "\n",
    "def prepare_dnn_dataloader(X_train, X_valid, X_test, y_train, y_valid, y_test):\n",
    "    traindataset = DNNDataset(X_train, y_train)\n",
    "\n",
    "    trainloader = torch.utils.data.DataLoader(\n",
    "        traindataset, \n",
    "        batch_size=100, \n",
    "        shuffle=True, \n",
    "        num_workers=0,\n",
    "    )\n",
    "\n",
    "    validdataset = DNNDataset(X_valid, y_valid)\n",
    "\n",
    "    validloader = torch.utils.data.DataLoader(\n",
    "        validdataset, \n",
    "        batch_size=100, \n",
    "        shuffle=True, \n",
    "        num_workers=0,\n",
    "    )\n",
    "\n",
    "    testdataset = DNNDataset(X_test, y_test)\n",
    "\n",
    "    testloader = torch.utils.data.DataLoader(\n",
    "        testdataset, \n",
    "        batch_size=100, \n",
    "        shuffle=True, \n",
    "        num_workers=0,\n",
    "    )\n",
    "\n",
    "    return trainloader, validloader, testloader"
   ]
  },
  {
   "cell_type": "code",
   "execution_count": null,
   "metadata": {
    "execution": {
     "iopub.execute_input": "2021-09-29T06:40:04.477002Z",
     "iopub.status.busy": "2021-09-29T06:40:04.476475Z",
     "iopub.status.idle": "2021-09-29T06:40:04.667958Z",
     "shell.execute_reply": "2021-09-29T06:40:04.667037Z",
     "shell.execute_reply.started": "2021-09-29T06:40:04.476964Z"
    }
   },
   "outputs": [],
   "source": [
    "class MLP(nn.Module):\n",
    "    def __init__(self, input_size, hidden_size1, hidden_size2, output_size):\n",
    "        super(MLP, self).__init__()\n",
    "        self.layer1 = nn.Linear(input_size, hidden_size1, bias = True)\n",
    "        self.layer2 = nn.Linear(hidden_size1, hidden_size2, bias = True)\n",
    "        self.layer3 = nn.Linear(hidden_size2, output_size, bias = True)\n",
    "    \n",
    "    def forward(self,x):\n",
    "        \n",
    "        y = self.layer1(x)\n",
    "        y_output = F.sigmoid(y)\n",
    "        z = self.layer2(y_output)\n",
    "        z_output = F.sigmoid(z)\n",
    "        \n",
    "        label = self.layer3(z_output)\n",
    "        label_output = F.softmax(label)\n",
    "        \n",
    "        return label_output\n",
    "\n",
    "trainloader, validloader, testloader = prepare_dnn_dataloader(X_train, X_valid, X_test, y_train, y_valid, y_test)\n",
    "inputs, labels = next(iter(trainloader))\n",
    "\n",
    "model = MLP(72, 256, 128, 3)\n",
    "outputs = model(inputs.float())\n",
    "\n",
    "# inputs = inputs.to(\"cuda\")\n",
    "# labels = labels.to(\"cuda\")     \n",
    "        \n",
    "labels[:1], outputs[:1]"
   ]
  },
  {
   "cell_type": "code",
   "execution_count": null,
   "metadata": {
    "execution": {
     "iopub.execute_input": "2021-09-29T06:40:04.669947Z",
     "iopub.status.busy": "2021-09-29T06:40:04.669583Z",
     "iopub.status.idle": "2021-09-29T06:40:04.675053Z",
     "shell.execute_reply": "2021-09-29T06:40:04.674182Z",
     "shell.execute_reply.started": "2021-09-29T06:40:04.669906Z"
    }
   },
   "outputs": [],
   "source": [
    "print(model)"
   ]
  },
  {
   "cell_type": "code",
   "execution_count": null,
   "metadata": {},
   "outputs": [],
   "source": [
    "print(torch.cuda.is_available())"
   ]
  },
  {
   "cell_type": "code",
   "execution_count": null,
   "metadata": {
    "execution": {
     "iopub.execute_input": "2021-09-29T06:40:04.677156Z",
     "iopub.status.busy": "2021-09-29T06:40:04.676526Z",
     "iopub.status.idle": "2021-09-29T06:41:43.938819Z",
     "shell.execute_reply": "2021-09-29T06:41:43.937686Z",
     "shell.execute_reply.started": "2021-09-29T06:40:04.677099Z"
    }
   },
   "outputs": [],
   "source": [
    "patience = 10\n",
    "# n_epochs = 1000\n",
    "n_epochs = 1000\n",
    "\n",
    "model = MLP(72, 256, 128, 3)\n",
    "\n",
    "criterion = nn.CrossEntropyLoss()\n",
    "optimizer = optim.SGD(model.parameters(), lr=0.001, momentum=0.9)\n",
    "early_stopping = EarlyStopping(patience=patience)\n",
    "\n",
    "trainloader, validloader, testloader = prepare_dnn_dataloader(X_train, X_valid, X_test, y_train, y_valid, y_test)\n",
    "trainer = DLTrainer(model, trainloader, validloader, testloader, criterion, optimizer, early_stopping, n_epochs, patience)\n",
    "trainer.train()"
   ]
  },
  {
   "cell_type": "code",
   "execution_count": null,
   "metadata": {
    "execution": {
     "iopub.execute_input": "2021-09-29T06:41:43.940949Z",
     "iopub.status.busy": "2021-09-29T06:41:43.940565Z",
     "iopub.status.idle": "2021-09-29T06:41:44.292511Z",
     "shell.execute_reply": "2021-09-29T06:41:44.291034Z",
     "shell.execute_reply.started": "2021-09-29T06:41:43.940905Z"
    }
   },
   "outputs": [],
   "source": [
    "dnn_valid_accuracy, dnn_valid_prediction = trainer.evaluate(validloader)\n",
    "dnn_test_accuracy, dnn_test_prediction = trainer.evaluate(testloader)\n",
    "print(dnn_valid_accuracy, dnn_test_accuracy)"
   ]
  },
  {
   "cell_type": "code",
   "execution_count": null,
   "metadata": {
    "execution": {
     "iopub.execute_input": "2021-09-29T06:41:44.294899Z",
     "iopub.status.busy": "2021-09-29T06:41:44.294549Z",
     "iopub.status.idle": "2021-09-29T06:41:45.476228Z",
     "shell.execute_reply": "2021-09-29T06:41:45.475405Z",
     "shell.execute_reply.started": "2021-09-29T06:41:44.294858Z"
    }
   },
   "outputs": [],
   "source": [
    "cnf_matrix = confusion_matrix(*dnn_test_prediction)\n",
    "np.set_printoptions(precision=2)\n",
    "\n",
    "# Plot non-normalized confusion matrix\n",
    "plt.figure(figsize=(15,8))\n",
    "plot_confusion_matrix(cnf_matrix, classes=activities, title='DNN Testing Confusion Matrix Without Normalization')\n",
    "\n",
    "# Plot normalized confusion matrix\n",
    "plt.figure(figsize=(15,8))\n",
    "plot_confusion_matrix(cnf_matrix, classes=activities, normalize=True, title='DNN Testing Normalized Confusion Matrix')\n",
    "\n",
    "plt.show()"
   ]
  },
  {
   "cell_type": "code",
   "execution_count": null,
   "metadata": {
    "execution": {
     "iopub.execute_input": "2021-09-29T06:41:45.479869Z",
     "iopub.status.busy": "2021-09-29T06:41:45.479607Z",
     "iopub.status.idle": "2021-09-29T06:41:46.083675Z",
     "shell.execute_reply": "2021-09-29T06:41:46.080079Z",
     "shell.execute_reply.started": "2021-09-29T06:41:45.47984Z"
    }
   },
   "outputs": [],
   "source": [
    "avg_train_losses, avg_valid_losses, train_accuracies, valid_accuracies = trainer.show_evaluation()\n",
    "plot_avg_loss_per_epoch(avg_train_losses, avg_valid_losses)\n",
    "plot_accuracy_per_epoch(train_accuracies, valid_accuracies)"
   ]
  },
  {
   "cell_type": "code",
   "execution_count": null,
   "metadata": {
    "execution": {
     "iopub.execute_input": "2021-09-29T06:41:46.088245Z",
     "iopub.status.busy": "2021-09-29T06:41:46.087846Z",
     "iopub.status.idle": "2021-09-29T06:41:46.101169Z",
     "shell.execute_reply": "2021-09-29T06:41:46.100161Z",
     "shell.execute_reply.started": "2021-09-29T06:41:46.088206Z"
    }
   },
   "outputs": [],
   "source": [
    "torch.save(model.state_dict(), \"pytorch_model2.pth\")\n",
    "# dump(scaler, 'dnn_std_scaler.bin', compress=True)"
   ]
  },
  {
   "cell_type": "code",
   "execution_count": null,
   "metadata": {
    "execution": {
     "iopub.execute_input": "2021-09-29T06:41:46.105356Z",
     "iopub.status.busy": "2021-09-29T06:41:46.104998Z",
     "iopub.status.idle": "2021-09-29T06:41:46.825873Z",
     "shell.execute_reply": "2021-09-29T06:41:46.825095Z",
     "shell.execute_reply.started": "2021-09-29T06:41:46.105321Z"
    }
   },
   "outputs": [],
   "source": [
    "dfs = []\n",
    "\n",
    "ids = [8, 9, 10]\n",
    "user = \"subject1\"\n",
    "load_data(\"dab\", 0, ids, user)\n",
    "load_data(\"jamesbond\", 1, ids, user)\n",
    "load_data(\"mermaid\", 2, ids, user)\n",
    "# load_data(\"dab\", 3, ids, user)\n",
    "# load_data(\"wipetable\", 4, ids, user)\n",
    "# load_data(\"gun\", 5, ids, user)\n",
    "# load_data(\"elbowkick\", 6, ids, user)\n",
    "# load_data(\"pointhigh\", 7, ids, user)\n",
    "# load_data(\"logout\", 8, ids, user)\n",
    "\n",
    "user = \"subject2\"\n",
    "load_data(\"dab\", 0, ids, user)\n",
    "load_data(\"jamesbond\", 1, ids, user)\n",
    "load_data(\"mermaid\", 2, ids, user)\n",
    "# load_data(\"dab\", 3, ids, user)\n",
    "# load_data(\"wipetable\", 4, ids, user)\n",
    "# load_data(\"gun\", 5, ids, user)\n",
    "# load_data(\"elbowkick\", 6, ids, user)\n",
    "# load_data(\"pointhigh\", 7, ids, user)\n",
    "# load_data(\"logout\", 8, ids, user)\n",
    "\n",
    "user = \"subject3\"\n",
    "load_data(\"dab\", 0, ids, user)\n",
    "load_data(\"jamesbond\", 1, ids, user)\n",
    "load_data(\"mermaid\", 2, ids, user)\n",
    "# load_data(\"dab\", 3, ids, user)\n",
    "# load_data(\"wipetable\", 4, ids, user)\n",
    "# load_data(\"gun\", 5, ids, user)\n",
    "# load_data(\"elbowkick\", 6, ids, user)\n",
    "# load_data(\"pointhigh\", 7, ids, user)\n",
    "# load_data(\"logout\", 8, ids, user)\n",
    "\n",
    "\n",
    "df = pd.concat(dfs)\n",
    "df.shape"
   ]
  },
  {
   "cell_type": "code",
   "execution_count": null,
   "metadata": {
    "execution": {
     "iopub.execute_input": "2021-09-29T06:41:46.827524Z",
     "iopub.status.busy": "2021-09-29T06:41:46.827184Z",
     "iopub.status.idle": "2021-09-29T06:42:35.189239Z",
     "shell.execute_reply": "2021-09-29T06:42:35.188339Z",
     "shell.execute_reply.started": "2021-09-29T06:41:46.827487Z"
    }
   },
   "outputs": [],
   "source": [
    "X = list()\n",
    "y = list()\n",
    "df_len = len(df)\n",
    "for idx in range(0, df_len, num_time_steps//2):\n",
    "    window_df = df[idx:idx+num_time_steps]\n",
    "    labels = window_df[\"activity\"].unique()\n",
    "    trials = window_df[\"trial\"].unique()\n",
    "    subjects = window_df[\"subject\"].unique()\n",
    "    if len(labels) != 1 or len(trials) != 1 or len(subjects) != 1 or len(window_df) < num_time_steps:\n",
    "        continue\n",
    "    assert len(labels) == 1 and len(window_df) == num_time_steps\n",
    "    features = window_df.drop(columns=[\"activity\", \"activityName\", \"subject\", \"trial\"]).values\n",
    "    features = convert_to_timeseries(features, num_time_steps=num_time_steps, num_features=9)\n",
    "    X.append(features)\n",
    "    y.append(labels)\n",
    "\n",
    "X = np.array(X)\n",
    "y = np.array(y)\n",
    "X = extract_raw_data_features(X)\n",
    "X = scale_data(X)\n",
    "X.shape, y.shape"
   ]
  },
  {
   "cell_type": "code",
   "execution_count": null,
   "metadata": {
    "execution": {
     "iopub.execute_input": "2021-09-29T06:42:35.190877Z",
     "iopub.status.busy": "2021-09-29T06:42:35.190555Z",
     "iopub.status.idle": "2021-09-29T06:42:35.196726Z",
     "shell.execute_reply": "2021-09-29T06:42:35.195567Z",
     "shell.execute_reply.started": "2021-09-29T06:42:35.190842Z"
    }
   },
   "outputs": [],
   "source": [
    "dataset = DNNDataset(X, y)\n",
    "\n",
    "dataloader = torch.utils.data.DataLoader(\n",
    "    dataset, \n",
    "    batch_size=1, \n",
    "    shuffle=True, \n",
    "    num_workers=0,\n",
    ")"
   ]
  },
  {
   "cell_type": "code",
   "execution_count": null,
   "metadata": {
    "execution": {
     "iopub.execute_input": "2021-09-29T06:42:35.198698Z",
     "iopub.status.busy": "2021-09-29T06:42:35.19825Z",
     "iopub.status.idle": "2021-09-29T06:42:42.43038Z",
     "shell.execute_reply": "2021-09-29T06:42:42.42948Z",
     "shell.execute_reply.started": "2021-09-29T06:42:35.19856Z"
    }
   },
   "outputs": [],
   "source": [
    "dnn_test_accuracy, dnn_test_prediction = trainer.evaluate(dataloader)\n",
    "dnn_test_accuracy"
   ]
  },
  {
   "cell_type": "code",
   "execution_count": null,
   "metadata": {
    "execution": {
     "iopub.execute_input": "2021-09-29T06:42:42.43232Z",
     "iopub.status.busy": "2021-09-29T06:42:42.431931Z",
     "iopub.status.idle": "2021-09-29T06:42:43.929727Z",
     "shell.execute_reply": "2021-09-29T06:42:43.92845Z",
     "shell.execute_reply.started": "2021-09-29T06:42:42.432276Z"
    }
   },
   "outputs": [],
   "source": [
    "cnf_matrix = confusion_matrix(*dnn_test_prediction)\n",
    "np.set_printoptions(precision=2)\n",
    "\n",
    "# Plot non-normalized confusion matrix\n",
    "plt.figure(figsize=(15,8))\n",
    "plot_confusion_matrix(cnf_matrix, classes=activities, title='DNN Testing Confusion Matrix Without Normalization')\n",
    "\n",
    "# Plot normalized confusion matrix\n",
    "plt.figure(figsize=(15,8))\n",
    "plot_confusion_matrix(cnf_matrix, classes=activities, normalize=True, title='DNN Testing Normalized Confusion Matrix')\n",
    "\n",
    "plt.show()"
   ]
  },
  {
   "cell_type": "code",
   "execution_count": null,
   "metadata": {},
   "outputs": [],
   "source": []
  }
 ],
 "metadata": {
  "kernelspec": {
   "display_name": "Python 3 (ipykernel)",
   "language": "python",
   "name": "python3"
  },
  "language_info": {
   "codemirror_mode": {
    "name": "ipython",
    "version": 3
   },
   "file_extension": ".py",
   "mimetype": "text/x-python",
   "name": "python",
   "nbconvert_exporter": "python",
   "pygments_lexer": "ipython3",
   "version": "3.9.6"
  }
 },
 "nbformat": 4,
 "nbformat_minor": 4
}
