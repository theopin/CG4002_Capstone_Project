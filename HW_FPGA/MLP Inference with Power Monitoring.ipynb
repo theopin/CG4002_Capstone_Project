{
 "cells": [
  {
   "cell_type": "code",
   "execution_count": 2,
   "metadata": {},
   "outputs": [
    {
     "data": {
      "application/javascript": [
       "\n",
       "try {\n",
       "require(['notebook/js/codecell'], function(codecell) {\n",
       "  codecell.CodeCell.options_default.highlight_modes[\n",
       "      'magic_text/x-csrc'] = {'reg':[/^%%microblaze/]};\n",
       "  Jupyter.notebook.events.one('kernel_ready.Kernel', function(){\n",
       "      Jupyter.notebook.get_cells().map(function(cell){\n",
       "          if (cell.cell_type == 'code'){ cell.auto_highlight(); } }) ;\n",
       "  });\n",
       "});\n",
       "} catch (e) {};\n"
      ]
     },
     "metadata": {},
     "output_type": "display_data"
    },
    {
     "data": {
      "application/javascript": [
       "\n",
       "try {\n",
       "require(['notebook/js/codecell'], function(codecell) {\n",
       "  codecell.CodeCell.options_default.highlight_modes[\n",
       "      'magic_text/x-csrc'] = {'reg':[/^%%pybind11/]};\n",
       "  Jupyter.notebook.events.one('kernel_ready.Kernel', function(){\n",
       "      Jupyter.notebook.get_cells().map(function(cell){\n",
       "          if (cell.cell_type == 'code'){ cell.auto_highlight(); } }) ;\n",
       "  });\n",
       "});\n",
       "} catch (e) {};\n"
      ]
     },
     "metadata": {},
     "output_type": "display_data"
    }
   ],
   "source": [
    "from pynq import Overlay\n",
    "from pynq import DefaultIP\n",
    "from pynq import allocate\n",
    "import pynq.lib.dma\n",
    "import numpy as np\n",
    "\n",
    "overlay = Overlay('mlp.bit') # check your path\n",
    "\n",
    "dma = overlay.axi_dma_0 # \n",
    "\n",
    "\n",
    "in_buffer = allocate(shape=(72,), dtype=np.int32) # input buffer\n",
    "out_buffer = allocate(shape=(9,), dtype=np.int32) # output buffer"
   ]
  },
  {
   "cell_type": "code",
   "execution_count": 3,
   "metadata": {},
   "outputs": [
    {
     "name": "stdout",
     "output_type": "stream",
     "text": [
      "(1, 72)\n",
      "(72,)\n"
     ]
    }
   ],
   "source": [
    "X_train = np.array([[0.57303\t,\n",
    "-0.11402\t,\n",
    "-0.105152\t,\n",
    "0.089241\t,\n",
    "0.307932\t,\n",
    "0.391485\t,\n",
    "-0.252224\t,\n",
    "-1.173367\t,\n",
    "0.160415\t,\n",
    "0.040591\t,\n",
    "1.086632\t,\n",
    "-0.431487\t,\n",
    "-0.336495\t,\n",
    "0.317206\t,\n",
    "-1.297528\t,\n",
    "0.453575\t,\n",
    "-3.230571\t,\n",
    "-0.551304\t,\n",
    "-0.393318\t,\n",
    "3.34009\t,\n",
    "0.14078\t,\n",
    "-0.121186\t,\n",
    "0.856612\t,\n",
    "-1.556521\t,\n",
    "-0.111119\t,\n",
    "-0.041249\t,\n",
    "-0.081052\t,\n",
    "-0.043762\t,\n",
    "-0.337461\t,\n",
    "-0.048597\t,\n",
    "-0.108675\t,\n",
    "1.02877\t,\n",
    "0.197423\t,\n",
    "1.72104\t,\n",
    "1.601003\t,\n",
    "1.60339\t,\n",
    "-0.588796\t,\n",
    "1.593095\t,\n",
    "-1.918339\t,\n",
    "-0.853406\t,\n",
    "1.212987\t,\n",
    "-0.343509\t,\n",
    "-0.579824\t,\n",
    "-0.112588\t,\n",
    "1.639324\t,\n",
    "0.326821\t,\n",
    "0.684386\t,\n",
    "-1.13039\t,\n",
    "-0.049174\t,\n",
    "-0.039247\t,\n",
    "2.671384\t,\n",
    "-0.049418\t,\n",
    "-0.506714\t,\n",
    "-0.049433\t,\n",
    "-1.098179\t,\n",
    "-0.75767\t,\n",
    "0.010618\t,\n",
    "-0.042098\t,\n",
    "0.294121\t,\n",
    "-0.066265\t,\n",
    "-0.33305\t,\n",
    "-0.061732\t,\n",
    "-0.939894\t,\n",
    "-0.609243\t,\n",
    "-0.169715\t,\n",
    "-0.0734\t,\n",
    "1.52544\t,\n",
    "-0.121191\t,\n",
    "-0.357269\t,\n",
    "-0.090752\t,\n",
    "-0.70681\t,\n",
    "-0.877476\t,]])\n",
    "\n",
    "print(X_train.shape)\n",
    "X_train = X_train.reshape(72,)\n",
    "print(X_train.shape)\n"
   ]
  },
  {
   "cell_type": "code",
   "execution_count": 61,
   "metadata": {},
   "outputs": [],
   "source": [
    "jamesbond_test = np.array([0.315519\t,\n",
    "-0.909452\t,\n",
    "-0.945519\t,\n",
    "-1.058748\t,\n",
    "0.776813\t,\n",
    "-1.121835\t,\n",
    "1.36407\t,\n",
    "-0.739651\t,\n",
    "0.090257\t,\n",
    "-0.748644\t,\n",
    "-1.01313\t,\n",
    "-0.548821\t,\n",
    "-0.298699\t,\n",
    "-1.116175\t,\n",
    "-1.021466\t,\n",
    "-0.534153\t,\n",
    "0.215216\t,\n",
    "-0.788408\t,\n",
    "-1.001336\t,\n",
    "-0.4775\t,\n",
    "-0.235261\t,\n",
    "-0.974035\t,\n",
    "0.279506\t,\n",
    "-0.352538\t,\n",
    "0.202424\t,\n",
    "-0.852366\t,\n",
    "-0.845736\t,\n",
    "-0.948193\t,\n",
    "0.613229\t,\n",
    "-0.639582\t,\n",
    "0.599134\t,\n",
    "0.873606\t,\n",
    "0.195264\t,\n",
    "-1.032386\t,\n",
    "-1.220204\t,\n",
    "-1.418457\t,\n",
    "-0.199755\t,\n",
    "-1.508599\t,\n",
    "1.106145\t,\n",
    "0.569348\t,\n",
    "0.270915\t,\n",
    "-0.90433\t,\n",
    "-0.977949\t,\n",
    "-1.070398\t,\n",
    "0.581212\t,\n",
    "-1.148259\t,\n",
    "0.944682\t,\n",
    "-0.743637\t,\n",
    "0.761648\t,\n",
    "-0.080214\t,\n",
    "-0.780734\t,\n",
    "0.059567\t,\n",
    "-0.200033\t,\n",
    "-0.172045\t,\n",
    "-0.309225\t,\n",
    "0.448204\t,\n",
    "0.338079\t,\n",
    "-0.113771\t,\n",
    "-1.499491\t,\n",
    "-0.280715\t,\n",
    "0.070708\t,\n",
    "-0.193304\t,\n",
    "0.484942\t,\n",
    "-0.998205\t,\n",
    "0.280595\t,\n",
    "-0.056644\t,\n",
    "0.376888\t,\n",
    "0.13771\t,\n",
    "-0.915416\t,\n",
    "-0.14245\t,\n",
    "-1.113302\t,\n",
    "0.336168\t,])"
   ]
  },
  {
   "cell_type": "code",
   "execution_count": 76,
   "metadata": {},
   "outputs": [
    {
     "ename": "SyntaxError",
     "evalue": "invalid syntax (<ipython-input-76-71eca0b23570>, line 74)",
     "output_type": "error",
     "traceback": [
      "\u001b[0;36m  File \u001b[0;32m\"<ipython-input-76-71eca0b23570>\"\u001b[0;36m, line \u001b[0;32m74\u001b[0m\n\u001b[0;31m    newarr = dab_test.reshape(,9)\u001b[0m\n\u001b[0m                              ^\u001b[0m\n\u001b[0;31mSyntaxError\u001b[0m\u001b[0;31m:\u001b[0m invalid syntax\n"
     ]
    }
   ],
   "source": [
    "dab_test = np.array([-0.047248\t,\n",
    "1.683265\t,\n",
    "1.706193\t,\n",
    "1.475268\t,\n",
    "-0.721284\t,\n",
    "1.223743\t,\n",
    "0.797971\t,\n",
    "-0.216054\t,\n",
    "0.899494\t,\n",
    "2.362313\t,\n",
    "1.096406\t,\n",
    "0.744655\t,\n",
    "-0.225288\t,\n",
    "1.945203\t,\n",
    "0.008899\t,\n",
    "-0.534153\t,\n",
    "-1.251659\t,\n",
    "0.913792\t,\n",
    "0.859473\t,\n",
    "0.514578\t,\n",
    "-0.094381\t,\n",
    "0.984811\t,\n",
    "0.779753\t,\n",
    "-1.669357\t,\n",
    "-1.284965\t,\n",
    "1.100304\t,\n",
    "0.526893\t,\n",
    "1.151479\t,\n",
    "-0.202339\t,\n",
    "1.761732\t,\n",
    "0.440705\t,\n",
    "1.666583\t,\n",
    "-0.324385\t,\n",
    "1.370929\t,\n",
    "1.003076\t,\n",
    "1.311835\t,\n",
    "-0.287246\t,\n",
    "1.219011\t,\n",
    "-1.154678\t,\n",
    "-0.374982\t,\n",
    "0.418406\t,\n",
    "1.748035\t,\n",
    "2.097331\t,\n",
    "1.539292\t,\n",
    "-0.839515\t,\n",
    "1.232614\t,\n",
    "0.920203\t,\n",
    "-0.218869\t,\n",
    "-0.348118\t,\n",
    "-0.074957\t,\n",
    "-0.346166\t,\n",
    "-0.16019\t,\n",
    "-0.136469\t,\n",
    "-0.061467\t,\n",
    "0.137043\t,\n",
    "1.218183\t,\n",
    "-0.912165\t,\n",
    "-0.109841\t,\n",
    "2.250883\t,\n",
    "0.009411\t,\n",
    "-0.383045\t,\n",
    "-0.147967\t,\n",
    "-0.828597\t,\n",
    "1.418962\t,\n",
    "-0.396428\t,\n",
    "2.320265\t,\n",
    "1.048457\t,\n",
    "0.649705\t,\n",
    "-0.490312\t,\n",
    "1.830817\t,\n",
    "-1.407304\t,\n",
    "1.152154\t,])\n",
    "\n",
    "newarr = dab_test.reshape(,9)"
   ]
  },
  {
   "cell_type": "code",
   "execution_count": 74,
   "metadata": {},
   "outputs": [
    {
     "name": "stdout",
     "output_type": "stream",
     "text": [
      "(60, 9)\n"
     ]
    }
   ],
   "source": [
    "test =np.array([[  10.   , -38.74, -152.75, - 191.46, -156.94,   24.,     -0.94,   -1.76,    1.54],\n",
    " [  -3.5  , -68.96 , -16.85,   56.8 , -154.59,  159.  ,    0.55 ,   0.03,    0.81],\n",
    " [ -29.    ,-54.65 ,-151.3 ,  28.28 , -30.26 ,  25.78 ,   0.48  ,  0.58 ,   0.59],\n",
    " [ -95.    ,-28.71 , -72.13,  -13.71,  -55.04, -110.  ,    0.1  ,   0.24,    0.74],\n",
    " [ -13.    ,-34.98 ,-207.44,-162.61 , 105.83 , -25.   ,  -0.59  , -0.24 ,   0.68],\n",
    " [-188.4   ,-10.28 ,   2.96, -173.84,   46.74, -280.  ,    0.37 ,  -1.1  ,   1.42],\n",
    " [ -18.    ,-27.49 ,-167.33,  213.31,   50.21, -257.  ,   -0.24 ,  -1.39,    0.9 ],\n",
    " [   0.    ,-22.61 ,  -3.74,   87.77,   10.37, -161.7 ,   -0.27 ,   0.7 ,    0.45],\n",
    " [ -14.    ,-30.43 ,-213.08,  -26.33,  -37.45,    6.33,   -0.22 ,   0.61 ,   0.48],\n",
    " [  87.    ,-17.43 , -90.82, -151.15,  -19.22,  123.  ,   -0.23 ,   0.13,    0.63],\n",
    " [ -64.    , -2.79 ,-285.39, -249.53,   11.05,  243.  ,   -0.77 ,  -1.5 ,    0.99],\n",
    " [ 153.    ,-46.4  , -10.28, -227.68 ,  67.84,  219.  ,   -0.93 ,  -1.22 ,   0.92],\n",
    " [ -80.    ,-24.16 ,-273.87,  222.8 ,  -83.68,  183.  ,    0.05 ,  -0.19 ,   0.5 ],\n",
    " [ 116.    ,-23.7  , -27.11,   -0.46,  -66.96,  -43.4 ,    0.08 ,   0.37 ,   0.88],\n",
    " [   0.    , -4.37 ,-288.25,  -56.7 ,   63.17, -103.  ,    0.14 ,   0.48 ,   0.47],\n",
    " [  23.4   ,-14.68 , -12.17,  -64.65,   50.48, -280.  ,    0.26 ,  -1.24 ,   0.71],\n",
    " [-100.    ,  5.18 ,-229.07,   43.93,   24.07, -257.1 ,   -0.25 ,  -2.   ,   1.87],\n",
    " [   4.8   ,-12.61 ,   9.43,  141.47,   25.42, -280.  ,    0.42 ,  -0.17 ,   0.73],\n",
    " [-109.     , 0.18 ,-228.92 ,  54.16 ,   1.15,-51.93   ,-0.44    ,0.53    ,0.17],\n",
    " [  48.5   ,-11.84 , -45.72,  -28.5 ,  -19.18,  -25.  ,   -0.02 ,   0.53  ,  0.7 ],\n",
    " [ -31.    , 64.5  ,-294.48, -160.29,   -1.94,  121.   ,  -0.25 ,  -0.01  ,  0.36],\n",
    " [ 135.8   ,-44.89 ,  13.34, -210.28,  180.47,  219.  ,   -0.3  ,  -1.36  , 1.58],\n",
    " [  -1.8   , 27.12 ,-279.94,  170.54,  -95.09,  243.  ,    0.32 ,  -1.86  , 1.44],\n",
    " [ 125.2   ,-41.66 ,  22.74,    9.64, -110.59,   81.17,   -0.43 ,   0.02  ,  0.45],\n",
    " [ -52.    , -0.43 ,-266.25,   23.3 ,    5.21,  -29.59,   -0.04 ,   0.6   ,  0.88],\n",
    " [  32.6   ,-64.09 , -19.92,    7.25,  -82.65, -141.8 ,   -0.05 ,   0.21  ,  0.74],\n",
    " [-153.    , 28.77 ,-274.08, -121.49,  -69.31,  -25.  ,   -0.08 ,  -0.07  ,  0.58],\n",
    " [ -59.6   ,-35.47  , 54.22,  -46.81,   80.32, -280.  ,    0.27 ,  -1.48 ,   1.58],\n",
    " [-139.    ,  5.71 ,-239.68,  218.67,   75.95, -257.  ,   -0.22 ,  -1.38 ,   0.64],\n",
    " [ -50.5   ,-37.17 ,  39.11,   67.86,  -74.58,   38.95,   -0.83 ,   0.25,    0.56],\n",
    " [ -76.    , -7.89 ,-281.18,  -44.03,   -9.01,   25.29,   -0.15 ,   0.53,    0.53],\n",
    " [  36.7   ,-38.53 , -24.82, -144.82,  -42.8 ,  175.  ,    0.19 ,  -0.24,    1.01],\n",
    " [   2.6   , -0.05 ,-299.79, -177.88,  -7.85 , 243.   ,  -0.28  , -1.37 ,   1.62],\n",
    " [ 111.2   ,-52.26 ,  50.07,  -80.26,   14.2 ,  219.5 ,   -0.58 ,  -0.98 ,   1.17],\n",
    " [   0.    ,-24.24 ,-282.98,  212.93,  -44.27,  207.  ,   -0.09 ,  -0.04 ,   0.42],\n",
    " [  63.92  ,-19.97 ,  34.96,   11.96,  -73.82,   -7.13,    0.24 ,   0.58,    0.84],\n",
    " [-100.    , -3.58 ,-293.76,  -45.31,   90.6 , -131.  ,   0.18  ,  0.49 ,   0.36],\n",
    " [   0.    ,-30.55 ,  79.53,  -56.55,   52.02, -280.  ,   -0.01 ,  -1.05,    0.86],\n",
    " [-197.    , 36.17 ,-240.5 ,  137.04,  -32.95, -257.  ,   -0.44 ,  -1.69,    1.86],\n",
    " [ -16.    ,-26.22 , 117.39,  121.96,  114.62, -269.  ,    0.5  ,  -0.03 ,   0.46],\n",
    " [-199.    , 27.37 ,-243.53,  110.17,    7.16,  -46.96,   -0.21 ,   0.39 ,   0.08],\n",
    " [  38.43  , -0.15 ,  69.6 ,  -38.78,  -26.75,   -4.7 ,   -0.03 ,   0.48,    0.71],\n",
    " [-120.    , 57.13 ,-300.7 , -125.39 ,  67.94,  153.  ,   -0.6  ,  -0.1 ,    0.5 ],\n",
    " [ 125.7   , -1.36 , 116.21,-188.23 ,  83.28 , 219.   ,  -0.25  , -1.03 ,   1.73],\n",
    " [   0.    ,  2.05 ,-283.54,  146.66,   -2.85,  243.1 ,   -0.24 ,  -1.64,    1.81],\n",
    " [ 113.    ,-12.37 , 111.94,   12.23, -152.6 ,   59.3 ,    0.73 ,   0.6 ,    0.13],\n",
    " [ -39.    ,-20.5  ,-285.13,   -5.33,  -31.04,  -34.  ,   -0.05 ,   0.71,    0.78],\n",
    " [  20.88  ,-63.37 ,  30.86,  -38.33,  -69.29, -111.  ,    0.11 ,   0.34,    0.75],\n",
    " [ -14.    ,-16.21 ,-266.5 , -220.96, -149.11,   -2.  ,   -0.2  ,  -0.32,    0.9 ],\n",
    " [ -58.    ,-54.8  , 102.54,   28.42,    4.92, -280.68,    0.02  , -1.25,    1.12],\n",
    " [ -16.    ,-26.64 ,-247.14,  216.51,   16.89, -221.  ,   -0.32 ,  -0.93,    0.54],\n",
    " [ -89.    ,-15.72 ,-302.9 ,    7.67,   58.15,   61.23,    0.08 ,   0.54,    0.61],\n",
    " [  50.98  ,-37.24 ,  33.84, -185.36,   25.12,  219.  ,    0.24  , -0.37,    0.8 ],\n",
    " [ -10.    ,-17.04 ,-278.89, -185.86,  -15.41,  243.  ,   -0.52  , -1.71,    1.99],\n",
    " [ 109.8   ,-63.62 ,  54.81,   41.26,  -10.86,  219.5 ,    0.   ,  -0.8  ,   0.89],\n",
    " [ -41.    ,-27.94 ,-274.63,   57.47,  -80.01,  163.8 ,   -0.03 ,   0.31,    0.26],\n",
    " [  29.74  ,-32.41 ,  20.  ,  -21.11,  -38.46,  -85.  ,    0.02 ,   0.43 ,   0.86],\n",
    " [ -14.    ,-10.13 ,-271.1 ,  -99.53,   84.66, -222.  ,  0.03   , 0.25   , 0.42],\n",
    " [ -62.5   ,-11.97  , 71.06,  -14.37,  44.56, -280.  ,   0.45  , -1.64 ,   1.49],\n",
    " [ -19.    ,-20.11 ,-248.09,  154.89,   57.37, -257.  ,   -0.14 ,   0.05,    0.44]])\n",
    "\n",
    "\n",
    "print(test.shape)"
   ]
  },
  {
   "cell_type": "code",
   "execution_count": null,
   "metadata": {},
   "outputs": [],
   "source": []
  },
  {
   "cell_type": "code",
   "execution_count": 98,
   "metadata": {},
   "outputs": [
    {
     "data": {
      "text/plain": [
       "'1.5.4'"
      ]
     },
     "execution_count": 98,
     "metadata": {},
     "output_type": "execute_result"
    }
   ],
   "source": [
    "import scipy\n",
    "scipy.__version__"
   ]
  },
  {
   "cell_type": "code",
   "execution_count": 72,
   "metadata": {
    "scrolled": true
   },
   "outputs": [
    {
     "name": "stderr",
     "output_type": "stream",
     "text": [
      "ERROR:root:An unexpected error occurred while tokenizing input\n",
      "The following traceback may be corrupted or invalid\n",
      "The error message is: ('EOF in multi-line string', (1, 2))\n",
      "\n"
     ]
    },
    {
     "ename": "ImportError",
     "evalue": "/usr/local/lib/python3.6/dist-packages/sklearn/__check_build/../../scikit_learn.libs/libgomp-d22c30c5.so.1.0.0: cannot allocate memory in static TLS block\n___________________________________________________________________________\nContents of /usr/local/lib/python3.6/dist-packages/sklearn/__check_build:\n__pycache__               setup.py                  _check_build.cpython-36m-aarch64-linux-gnu.so\n__init__.py\n___________________________________________________________________________\nIt seems that scikit-learn has not been built correctly.\n\nIf you have installed scikit-learn from source, please do not forget\nto build the package before using it: run `python setup.py install` or\n`make` in the source directory.\n\nIf you have used an installer, please check that it is suited for your\nPython version, your operating system and your platform.",
     "output_type": "error",
     "traceback": [
      "\u001b[0;31m---------------------------------------------------------------------------\u001b[0m",
      "\u001b[0;31mImportError\u001b[0m                               Traceback (most recent call last)",
      "\u001b[0;32m/usr/local/lib/python3.6/dist-packages/sklearn/__check_build/__init__.py\u001b[0m in \u001b[0;36m<module>\u001b[0;34m()\u001b[0m\n\u001b[1;32m     43\u001b[0m \u001b[0;32mtry\u001b[0m\u001b[0;34m:\u001b[0m\u001b[0;34m\u001b[0m\u001b[0m\n\u001b[0;32m---> 44\u001b[0;31m     \u001b[0;32mfrom\u001b[0m \u001b[0;34m.\u001b[0m\u001b[0m_check_build\u001b[0m \u001b[0;32mimport\u001b[0m \u001b[0mcheck_build\u001b[0m  \u001b[0;31m# noqa\u001b[0m\u001b[0;34m\u001b[0m\u001b[0m\n\u001b[0m\u001b[1;32m     45\u001b[0m \u001b[0;32mexcept\u001b[0m \u001b[0mImportError\u001b[0m \u001b[0;32mas\u001b[0m \u001b[0me\u001b[0m\u001b[0;34m:\u001b[0m\u001b[0;34m\u001b[0m\u001b[0m\n",
      "\u001b[0;31mImportError\u001b[0m: /usr/local/lib/python3.6/dist-packages/sklearn/__check_build/../../scikit_learn.libs/libgomp-d22c30c5.so.1.0.0: cannot allocate memory in static TLS block",
      "\nDuring handling of the above exception, another exception occurred:\n",
      "\u001b[0;31mImportError\u001b[0m                               Traceback (most recent call last)",
      "\u001b[0;32m<ipython-input-72-62941ef5708c>\u001b[0m in \u001b[0;36m<module>\u001b[0;34m()\u001b[0m\n\u001b[0;32m----> 1\u001b[0;31m \u001b[0;32mfrom\u001b[0m \u001b[0msklearn\u001b[0m\u001b[0;34m.\u001b[0m\u001b[0mpreprocessing\u001b[0m \u001b[0;32mimport\u001b[0m \u001b[0mMinMaxScaler\u001b[0m\u001b[0;34m\u001b[0m\u001b[0m\n\u001b[0m\u001b[1;32m      2\u001b[0m \u001b[0mscaler\u001b[0m \u001b[0;34m=\u001b[0m \u001b[0mpreprocessing\u001b[0m\u001b[0;34m.\u001b[0m\u001b[0mStandardScaler\u001b[0m\u001b[0;34m(\u001b[0m\u001b[0;34m)\u001b[0m\u001b[0;34m\u001b[0m\u001b[0m\n\u001b[1;32m      3\u001b[0m \u001b[0;34m\u001b[0m\u001b[0m\n\u001b[1;32m      4\u001b[0m \u001b[0;32mdef\u001b[0m \u001b[0mscale_data\u001b[0m\u001b[0;34m(\u001b[0m\u001b[0mdata\u001b[0m\u001b[0;34m,\u001b[0m \u001b[0mis_train\u001b[0m\u001b[0;34m=\u001b[0m\u001b[0;32mFalse\u001b[0m\u001b[0;34m)\u001b[0m\u001b[0;34m:\u001b[0m\u001b[0;34m\u001b[0m\u001b[0m\n\u001b[1;32m      5\u001b[0m     \u001b[0;32mif\u001b[0m \u001b[0mis_train\u001b[0m\u001b[0;34m:\u001b[0m\u001b[0;34m\u001b[0m\u001b[0m\n",
      "\u001b[0;32m/usr/local/lib/python3.6/dist-packages/sklearn/__init__.py\u001b[0m in \u001b[0;36m<module>\u001b[0;34m()\u001b[0m\n\u001b[1;32m     79\u001b[0m     \u001b[0;31m# it and importing it first would fail if the OpenMP dll cannot be found.\u001b[0m\u001b[0;34m\u001b[0m\u001b[0;34m\u001b[0m\u001b[0m\n\u001b[1;32m     80\u001b[0m     \u001b[0;32mfrom\u001b[0m \u001b[0;34m.\u001b[0m \u001b[0;32mimport\u001b[0m \u001b[0m_distributor_init\u001b[0m  \u001b[0;31m# noqa: F401\u001b[0m\u001b[0;34m\u001b[0m\u001b[0m\n\u001b[0;32m---> 81\u001b[0;31m     \u001b[0;32mfrom\u001b[0m \u001b[0;34m.\u001b[0m \u001b[0;32mimport\u001b[0m \u001b[0m__check_build\u001b[0m  \u001b[0;31m# noqa: F401\u001b[0m\u001b[0;34m\u001b[0m\u001b[0m\n\u001b[0m\u001b[1;32m     82\u001b[0m     \u001b[0;32mfrom\u001b[0m \u001b[0;34m.\u001b[0m\u001b[0mbase\u001b[0m \u001b[0;32mimport\u001b[0m \u001b[0mclone\u001b[0m\u001b[0;34m\u001b[0m\u001b[0m\n\u001b[1;32m     83\u001b[0m     \u001b[0;32mfrom\u001b[0m \u001b[0;34m.\u001b[0m\u001b[0mutils\u001b[0m\u001b[0;34m.\u001b[0m\u001b[0m_show_versions\u001b[0m \u001b[0;32mimport\u001b[0m \u001b[0mshow_versions\u001b[0m\u001b[0;34m\u001b[0m\u001b[0m\n",
      "\u001b[0;32m/usr/local/lib/python3.6/dist-packages/sklearn/__check_build/__init__.py\u001b[0m in \u001b[0;36m<module>\u001b[0;34m()\u001b[0m\n\u001b[1;32m     44\u001b[0m     \u001b[0;32mfrom\u001b[0m \u001b[0;34m.\u001b[0m\u001b[0m_check_build\u001b[0m \u001b[0;32mimport\u001b[0m \u001b[0mcheck_build\u001b[0m  \u001b[0;31m# noqa\u001b[0m\u001b[0;34m\u001b[0m\u001b[0m\n\u001b[1;32m     45\u001b[0m \u001b[0;32mexcept\u001b[0m \u001b[0mImportError\u001b[0m \u001b[0;32mas\u001b[0m \u001b[0me\u001b[0m\u001b[0;34m:\u001b[0m\u001b[0;34m\u001b[0m\u001b[0m\n\u001b[0;32m---> 46\u001b[0;31m     \u001b[0mraise_build_error\u001b[0m\u001b[0;34m(\u001b[0m\u001b[0me\u001b[0m\u001b[0;34m)\u001b[0m\u001b[0;34m\u001b[0m\u001b[0m\n\u001b[0m",
      "\u001b[0;32m/usr/local/lib/python3.6/dist-packages/sklearn/__check_build/__init__.py\u001b[0m in \u001b[0;36mraise_build_error\u001b[0;34m(e)\u001b[0m\n\u001b[1;32m     39\u001b[0m \u001b[0mto\u001b[0m \u001b[0mbuild\u001b[0m \u001b[0mthe\u001b[0m \u001b[0mpackage\u001b[0m \u001b[0mbefore\u001b[0m \u001b[0musing\u001b[0m \u001b[0mit\u001b[0m\u001b[0;34m:\u001b[0m \u001b[0mrun\u001b[0m\u001b[0;31m \u001b[0m\u001b[0;31m`\u001b[0m\u001b[0mpython\u001b[0m \u001b[0msetup\u001b[0m\u001b[0;34m.\u001b[0m\u001b[0mpy\u001b[0m \u001b[0minstall\u001b[0m\u001b[0;31m`\u001b[0m \u001b[0;32mor\u001b[0m\u001b[0;34m\u001b[0m\u001b[0m\n\u001b[1;32m     40\u001b[0m \u001b[0;31m`\u001b[0m\u001b[0mmake\u001b[0m\u001b[0;31m`\u001b[0m \u001b[0;32min\u001b[0m \u001b[0mthe\u001b[0m \u001b[0msource\u001b[0m \u001b[0mdirectory\u001b[0m\u001b[0;34m.\u001b[0m\u001b[0;34m\u001b[0m\u001b[0m\n\u001b[0;32m---> 41\u001b[0;31m %s\"\"\" % (e, local_dir, ''.join(dir_content).strip(), msg))\n\u001b[0m\u001b[1;32m     42\u001b[0m \u001b[0;34m\u001b[0m\u001b[0m\n\u001b[1;32m     43\u001b[0m \u001b[0;32mtry\u001b[0m\u001b[0;34m:\u001b[0m\u001b[0;34m\u001b[0m\u001b[0m\n",
      "\u001b[0;31mImportError\u001b[0m: /usr/local/lib/python3.6/dist-packages/sklearn/__check_build/../../scikit_learn.libs/libgomp-d22c30c5.so.1.0.0: cannot allocate memory in static TLS block\n___________________________________________________________________________\nContents of /usr/local/lib/python3.6/dist-packages/sklearn/__check_build:\n__pycache__               setup.py                  _check_build.cpython-36m-aarch64-linux-gnu.so\n__init__.py\n___________________________________________________________________________\nIt seems that scikit-learn has not been built correctly.\n\nIf you have installed scikit-learn from source, please do not forget\nto build the package before using it: run `python setup.py install` or\n`make` in the source directory.\n\nIf you have used an installer, please check that it is suited for your\nPython version, your operating system and your platform."
     ]
    }
   ],
   "source": [
    "from sklearn.preprocessing import MinMaxScaler\n",
    "scaler = preprocessing.StandardScaler()\n",
    "\n",
    "def scale_data(data, is_train=False):\n",
    "    if is_train:\n",
    "        data = scaler.fit_transform(data) #Fit to data, then transform it.\n",
    "    else:\n",
    "        data = scaler.transform(data) #Perform standardization by centering and scaling\n",
    "    return data\n",
    "\n",
    "X_train = scale_data(dab_test, is_train=True)"
   ]
  },
  {
   "cell_type": "code",
   "execution_count": null,
   "metadata": {},
   "outputs": [],
   "source": []
  },
  {
   "cell_type": "code",
   "execution_count": 4,
   "metadata": {},
   "outputs": [
    {
     "name": "stdout",
     "output_type": "stream",
     "text": [
      "[ 1058189848 -1108769967 -1109960209  1035387900  1050519875  1053323449\n",
      " -1098833023 -1080676124  1042564052  1025917632  1066079938 -1092817955\n",
      " -1096005357  1050831059 -1079634586  1055406843 -1068580435 -1089658302\n",
      " -1094098694  1079362569  1041246370 -1107808162  1062947565 -1077461995\n",
      " -1109159332 -1121389386 -1113194857 -1120714808 -1095972944 -1119416922\n",
      " -1109487360  1065594556  1045047617  1071401738  1070394795  1070414818\n",
      " -1089029290  1070328457 -1074426846 -1084589871  1067139880 -1095770007\n",
      " -1089179816 -1108962166  1070716254  1051153685  1060058092 -1081036641\n",
      " -1119262035 -1121926794  1076557813 -1119196537 -1090406398 -1119192510\n",
      " -1081306847 -1086196055  1009645343 -1121161484  1050056455 -1115179534\n",
      " -1096120952 -1115891022 -1083138843 -1088686247 -1104295483 -1114221891\n",
      "  1069760926 -1107807491 -1095308298 -1111892945 -1087049344 -1084186044]\n"
     ]
    }
   ],
   "source": [
    "import struct as st\n",
    "\n",
    "for i in range(72):\n",
    "    in_buffer[i]= st.unpack('i', st.pack('f',X_train[i]))[0];                                                                                                                                                                                                                                                                                                                                 \n",
    "\n",
    "print(in_buffer)"
   ]
  },
  {
   "cell_type": "code",
   "execution_count": 5,
   "metadata": {},
   "outputs": [
    {
     "name": "stdout",
     "output_type": "stream",
     "text": [
      "Recording Ultra96 v2 power...\n"
     ]
    }
   ],
   "source": [
    "import pynq\n",
    "\n",
    "rails = pynq.get_rails()\n",
    "rails\n",
    "\n",
    "if 'VSYS' in rails.keys():\n",
    "    print(\"Recording Ultra96 v1 power...\")\n",
    "    rail_name = 'VSYS'\n",
    "elif 'PSINT_FP' in rails.keys():\n",
    "    print(\"Recording Ultra96 v2 power...\")\n",
    "    rail_name = 'PSINT_FP'\n",
    "else:\n",
    "    raise RuntimeError(\"Cannot determine Ultra96 board version.\")\n",
    "recorder = pynq.DataRecorder(rails[rail_name].power)"
   ]
  },
  {
   "cell_type": "code",
   "execution_count": 6,
   "metadata": {},
   "outputs": [
    {
     "data": {
      "text/plain": [
       "PynqBuffer([1055955456, 1065351278, 1063342839,  945253813, 1061263968,\n",
       "            1056445891, 1058038844, 1046647690, 1055944057], dtype=int32)"
      ]
     },
     "execution_count": 6,
     "metadata": {},
     "output_type": "execute_result"
    }
   ],
   "source": [
    "#****************For Inference***************************\n",
    "dma.sendchannel.transfer(in_buffer) \n",
    "dma.recvchannel.transfer(out_buffer)\n",
    "dma.sendchannel.wait() # wait for send channel\n",
    "dma.recvchannel.wait() # wait for recv channel\n",
    "out_buffer"
   ]
  },
  {
   "cell_type": "code",
   "execution_count": 7,
   "metadata": {},
   "outputs": [
    {
     "name": "stdout",
     "output_type": "stream",
     "text": [
      "Total Elapsed time:  0.0018241405487060547\n"
     ]
    },
    {
     "data": {
      "text/plain": [
       "<matplotlib.axes._subplots.AxesSubplot at 0x7f84c77940>"
      ]
     },
     "execution_count": 7,
     "metadata": {},
     "output_type": "execute_result"
    },
    {
     "data": {
      "image/png": "[encoded data removed]",
      "text/plain": [
       "<matplotlib.figure.Figure at 0x7f8625a9b0>"
      ]
     },
     "metadata": {},
     "output_type": "display_data"
    }
   ],
   "source": [
    "#***************For Power & Speed Measurement*********************\n",
    "import time\n",
    "recorder.reset()\n",
    "with recorder.record(0.5):\n",
    "    time.sleep(5)\n",
    "    start = time.time()\n",
    "    dma.sendchannel.transfer(in_buffer) \n",
    "    dma.recvchannel.transfer(out_buffer)\n",
    "    dma.sendchannel.wait() # wait for send channel\n",
    "    dma.recvchannel.wait() # wait for recv channel\n",
    "    end = time.time()\n",
    "    time.sleep(5)\n",
    "\n",
    "print(\"Total Elapsed time: \", end - start)\n",
    "out_buffer\n",
    "%matplotlib inline\n",
    "recorder.frame['{}_power'.format(rail_name)].plot()"
   ]
  },
  {
   "cell_type": "code",
   "execution_count": 91,
   "metadata": {},
   "outputs": [
    {
     "data": {
      "text/plain": [
       "<matplotlib.axes._subplots.AxesSubplot at 0x7f982b2978>"
      ]
     },
     "execution_count": 91,
     "metadata": {},
     "output_type": "execute_result"
    },
    {
     "data": {
      "image/png": "[encoded data removed]",
      "text/plain": [
       "<matplotlib.figure.Figure at 0x7f98302470>"
      ]
     },
     "metadata": {},
     "output_type": "display_data"
    }
   ],
   "source": [
    "%matplotlib inline\n",
    "recorder.frame['{}_power'.format(rail_name)].plot()"
   ]
  },
  {
   "cell_type": "raw",
   "metadata": {},
   "source": [
    "recorder.frame"
   ]
  },
  {
   "cell_type": "code",
   "execution_count": 18,
   "metadata": {},
   "outputs": [
    {
     "name": "stdout",
     "output_type": "stream",
     "text": [
      "[1055955456 1065351278 1063342839  945253813 1061263968 1056445891\n",
      " 1058038844 1046647690 1055944057]\n",
      "[4.69924927e-01 9.99884486e-01 8.80172193e-01 5.13621671e-05\n",
      " 7.56261826e-01 4.84541029e-01 5.64029455e-01 2.21265942e-01\n",
      " 4.69585210e-01]\n",
      "3\n",
      "pushback\n"
     ]
    }
   ],
   "source": [
    "print(out_buffer)\n",
    "res =flat_arr = np.zeros((9,))\n",
    "for i in range(9):\n",
    "    res[i]= st.unpack('f',out_buffer[i])[0];\n",
    "print(res)\n",
    "index = np.argmin(res)\n",
    "print(index)\n",
    "activities = [\"dab\", \"jamesbond\", \"mermaid\", \"pushback\", \"scarecrow\", \"snake\", \"window360\", \"cowboy\", \"logout\"]\n",
    "print(activities[index])"
   ]
  }
 ],
 "metadata": {
  "kernelspec": {
   "display_name": "Python 3",
   "language": "python",
   "name": "python3"
  },
  "language_info": {
   "codemirror_mode": {
    "name": "ipython",
    "version": 3
   },
   "file_extension": ".py",
   "mimetype": "text/x-python",
   "name": "python",
   "nbconvert_exporter": "python",
   "pygments_lexer": "ipython3",
   "version": "3.6.5"
  }
 },
 "nbformat": 4,
 "nbformat_minor": 2
}
